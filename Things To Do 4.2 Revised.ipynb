{
 "cells": [
  {
   "cell_type": "code",
   "execution_count": 1,
   "id": "f5cd0e0f-85af-4dc8-84ad-784892675523",
   "metadata": {},
   "outputs": [
    {
     "name": "stdout",
     "output_type": "stream",
     "text": [
      "watermelon is a match\n"
     ]
    }
   ],
   "source": [
    "# This program looks for either True or False values to be added to the variables 'green' and 'small' \n",
    "# depending on which value equals True and which equals False will alter the output \n",
    "# number 4.2 in 'Things To Do'\n",
    "\n",
    "small = False\n",
    "green = True\n",
    "\n",
    "if small and green:\n",
    "    print(\"pea is a match\")\n",
    "elif not small and green:\n",
    "    print(\"watermelon is a match\")\n",
    "elif small and not green:\n",
    "        print(\"cherry is a match\")\n",
    "else:\n",
    "     print(\"pumpkin is a match\")"
   ]
  },
  {
   "cell_type": "code",
   "execution_count": null,
   "id": "6802523c-67cc-48c0-b760-db5e9ac9bf76",
   "metadata": {},
   "outputs": [],
   "source": []
  }
 ],
 "metadata": {
  "kernelspec": {
   "display_name": "Python 3 (ipykernel)",
   "language": "python",
   "name": "python3"
  },
  "language_info": {
   "codemirror_mode": {
    "name": "ipython",
    "version": 3
   },
   "file_extension": ".py",
   "mimetype": "text/x-python",
   "name": "python",
   "nbconvert_exporter": "python",
   "pygments_lexer": "ipython3",
   "version": "3.11.7"
  }
 },
 "nbformat": 4,
 "nbformat_minor": 5
}
