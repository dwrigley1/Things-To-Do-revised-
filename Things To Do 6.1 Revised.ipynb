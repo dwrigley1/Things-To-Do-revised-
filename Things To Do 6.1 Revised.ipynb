{
 "cells": [
  {
   "cell_type": "code",
   "execution_count": null,
   "id": "6f9b978e-bc17-422d-8d63-2e3f69ef2939",
   "metadata": {},
   "outputs": [],
   "source": [
    "# This program contains a list of integers, uses a 'for' loop to iterate the list, then prints the list \n",
    "# number 6.1 in 'Things To Do'\n",
    "\n",
    "numbers = [3, 2, 1, 0]\n",
    "for number in numbers:\n",
    "    print(number)"
   ]
  }
 ],
 "metadata": {
  "kernelspec": {
   "display_name": "Python 3 (ipykernel)",
   "language": "python",
   "name": "python3"
  },
  "language_info": {
   "codemirror_mode": {
    "name": "ipython",
    "version": 3
   },
   "file_extension": ".py",
   "mimetype": "text/x-python",
   "name": "python",
   "nbconvert_exporter": "python",
   "pygments_lexer": "ipython3",
   "version": "3.11.7"
  }
 },
 "nbformat": 4,
 "nbformat_minor": 5
}
